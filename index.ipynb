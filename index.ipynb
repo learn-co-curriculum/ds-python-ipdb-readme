{
 "cells": [
  {
   "cell_type": "markdown",
   "metadata": {},
   "source": [
    "# Debugging Python with `pdb`\n",
    "\n",
    "### Objectives\n",
    "\n",
    "* Understand the importance for debugging for software developers and data scientists.\n",
    "* Use `pdb` and `ipdb` for debugging python code in jupyter and other IDEs.\n",
    "* Create breakpoints in the code and inspect the variable state. \n",
    "* Step through the program to look for errors. "
   ]
  },
  {
   "cell_type": "markdown",
   "metadata": {},
   "source": [
    "### Background\n",
    "For an absolute beginner, it is often difficult to write even a single line of code that works correctly. Most programming languages are very specific in terms of their syntax. You miss a set of brackets, or a colon/semi-colon or mis-spell a variable name and an error gets thrown back at you. As one moves towards writing non-trivial code in a  professional context, the level of code complexity increases accordingly and it still remains hard to write a few lines of code without tripping over. Identifying and correcting logical / semantic errors in a self-written program is a highly desirable skill for programmers as well as data scientists. \n",
    "\n",
    "![](http://www.oconne.com/onyxia/img/happiness_is.jpg)\n",
    "\n",
    "We don't expect our code to work correctly the first time. Our code breaks all the time and we fix it - all the time. We build the code slowly, bit by bit. \n",
    "\n",
    "> **Programs aren't written. They are edited into existence**\n",
    "\n",
    "In a professional context, debugging code (a process of tracking errors in code) may take more time than actually writing code.\n",
    "\n",
    "The purpose of this lesson is to introduce the basics of `pdb`, the **\"Python DeBugger\"**. \n",
    "The lesson will provide you with some skills that will help run debugging sessions with ease. "
   ]
  },
  {
   "cell_type": "markdown",
   "metadata": {},
   "source": [
    "### What is a Debugger"
   ]
  },
  {
   "cell_type": "markdown",
   "metadata": {},
   "source": [
    "A Debugger allows us to identify and remove bugs (errors) from our code as it let's us:\n",
    "\n",
    "* Observe the internal state of a program during execution. \n",
    "* Test our code for presence of bugs before implementation stage. \n",
    "* Check our code's execution logic for identifying logical errors. \n",
    "\n",
    "Using a debugger, we can set a **breakpoint** at any line in our code to halt the execution and check for points shown above. "
   ]
  },
  {
   "cell_type": "markdown",
   "metadata": {},
   "source": [
    "#### and what is a Breakpoint ?"
   ]
  },
  {
   "cell_type": "markdown",
   "metadata": {},
   "source": [
    "Creating breakpoints is a key feature for any debugger. This feature let's the debugger pause the program whenever a certain breakpoint in the program is reached. For each breakpoint, we can add further checks and conditions to monitor the program flow in finer details. We can set breakpoints to specify the place where our program should stop - a line number, function name or exact address in the program.\n",
    "\n",
    "Debuggers are powerful tools and they can speed up the debugging process a lot faster than using simple `print()` statements in the code for viewing the state of variables. It normally takes some time before one feels comfortable in a debugging environment. The purpose of this lesson is to get your feet wet before you start using one in your data future science projects."
   ]
  },
  {
   "cell_type": "markdown",
   "metadata": {},
   "source": [
    "### `pdb` - the Python DeBugger"
   ]
  },
  {
   "cell_type": "markdown",
   "metadata": {},
   "source": [
    "Python's comes with it's very own debugger, the `pdb`. The debugger is included in python, ready to be used in the same way any other library is imported and used. To see this in action, we shall start with a simple program with  pretty obvious errors as shown below. \n",
    "The code asks user to input amount of meat in kgs, milk in pints and units of bread bought from a store. The code then calculates the sub-total by calculating price for each product. It also, calculates amount of tax due on all these products and displays that to the user. Finally it adds up the sub-total and tax amount and print the grand total. \n",
    "\n",
    "Let's run this program and see if it works as expected. \n"
   ]
  },
  {
   "cell_type": "code",
   "execution_count": 28,
   "metadata": {},
   "outputs": [
    {
     "name": "stdout",
     "output_type": "stream",
     "text": [
      "Enter weight in kg:2\n",
      "Enter in pints:3\n",
      "Enter number of bread units4\n",
      "Sub-Total: 5.5\n",
      "Taxes: 0.18156854249492382\n",
      "Total bill: 5.58\n"
     ]
    }
   ],
   "source": [
    "meat = float(input('Enter weight in kg:'))\n",
    "meatPrice = 1 * meat\n",
    "meatTax = 0.04 * meatPrice\n",
    "\n",
    "milk = float(input('Enter in pints:'))\n",
    "milkPrice = 0.5 * milk \n",
    "milkTax = 0.03 * milkPrice\n",
    "\n",
    "bread = float(input('Enter number of bread units'))\n",
    "breadPrice = bread ** 0.75\n",
    "breadTax = 0.02 * breadPrice\n",
    "\n",
    "total = meatPrice+milkPrice+meatPrice\n",
    "tax = meatTax+milkTax+breadTax\n",
    "\n",
    "print (\"Sub-Total:\", total)\n",
    "print (\"Taxes:\", tax)\n",
    "print (\"Total bill:\", total+meatTax)\n"
   ]
  },
  {
   "cell_type": "markdown",
   "metadata": {},
   "source": [
    "So something is obviously wrong here. The total amount looks wrong and also the sub-total and taxes don't add up to the grand total. As program runs fine so we suspect there is something wrong with the calculations. Although you might be able to spot the errors but let's see how to do this with the `pdb`. "
   ]
  },
  {
   "cell_type": "markdown",
   "metadata": {},
   "source": [
    "### Getting started with debugging"
   ]
  },
  {
   "cell_type": "markdown",
   "metadata": {},
   "source": [
    "We shall use `ipdb` for debugging our code which is a variant of `pdb` to be used in jupyter notebooks. For this we shall import `IPython.core.debugger` into our working environment at the top of the cell we want to debug. In order to break into the debugger from a running program (i.e. creating a breakpoint), we can simply insert `set_trace()` at place in the code where you want to break into the debugger. We can then step through the code following this statement, and provide extra parameters as we shall below. \n",
    "\n",
    "Let's first import ipdb as mentioned above and import it as `debug`. We shall insert `set_trace()` just before the calculations are made. On the ipdb prompt, a first check that we can make is to check the current values of variables we are interested in i.e. tax and sub-total. For this, we can simply print those values as `p <variable_name>`. \n",
    "\n",
    "We shall check the values and then press `q` to quit the debugger. We can also use `c` for continue till the program reaches the end of execution."
   ]
  },
  {
   "cell_type": "code",
   "execution_count": 30,
   "metadata": {},
   "outputs": [
    {
     "name": "stdout",
     "output_type": "stream",
     "text": [
      "Enter weight in kg:2\n",
      "Enter in pints:3\n",
      "Enter number of bread units4\n",
      "--Return--\n",
      "None\n",
      "> \u001b[0;32m<ipython-input-30-fb8a670fe386>\u001b[0m(17)\u001b[0;36m<module>\u001b[0;34m()\u001b[0m\n",
      "\u001b[0;32m     15 \u001b[0;31m\u001b[0;34m\u001b[0m\u001b[0m\n",
      "\u001b[0m\u001b[0;32m     16 \u001b[0;31m\u001b[0;31m# Create a break point\u001b[0m\u001b[0;34m\u001b[0m\u001b[0;34m\u001b[0m\u001b[0m\n",
      "\u001b[0m\u001b[0;32m---> 17 \u001b[0;31m\u001b[0mdebug\u001b[0m\u001b[0;34m.\u001b[0m\u001b[0mset_trace\u001b[0m\u001b[0;34m(\u001b[0m\u001b[0;34m)\u001b[0m\u001b[0;34m\u001b[0m\u001b[0m\n",
      "\u001b[0m\u001b[0;32m     18 \u001b[0;31m\u001b[0;34m\u001b[0m\u001b[0m\n",
      "\u001b[0m\u001b[0;32m     19 \u001b[0;31m\u001b[0mtotal\u001b[0m \u001b[0;34m=\u001b[0m \u001b[0mmeatPrice\u001b[0m\u001b[0;34m+\u001b[0m\u001b[0mmilkPrice\u001b[0m\u001b[0;34m+\u001b[0m\u001b[0mmeatPrice\u001b[0m\u001b[0;34m\u001b[0m\u001b[0m\n",
      "\u001b[0m\n",
      "ipdb> c\n",
      "Sub-Total: 5.5\n",
      "Taxes: 0.18156854249492382\n",
      "Total bill: 5.58\n"
     ]
    }
   ],
   "source": [
    "import IPython.core.debugger as debug\n",
    "\n",
    "\n",
    "meat = float(input('Enter weight in kg:'))\n",
    "meatPrice = 1 * meat\n",
    "meatTax = 0.04 * meatPrice\n",
    "\n",
    "milk = float(input('Enter in pints:'))\n",
    "milkPrice = 0.5 * milk \n",
    "milkTax = 0.03 * milkPrice\n",
    "\n",
    "bread = float(input('Enter number of bread units'))\n",
    "breadPrice = bread ** 0.75\n",
    "breadTax = 0.02 * breadPrice\n",
    "\n",
    "# Create a break point\n",
    "debug.set_trace()\n",
    "\n",
    "total = meatPrice+milkPrice+meatPrice\n",
    "tax = meatTax+milkTax+breadTax\n",
    "\n",
    "print (\"Sub-Total:\", total)\n",
    "print (\"Taxes:\", tax)\n",
    "print (\"Total bill:\", total+meatTax)\n"
   ]
  },
  {
   "cell_type": "markdown",
   "metadata": {},
   "source": [
    "So you see how we can create a breakpoint to step into the debugger and check variable values at that point in the program. Looking at above, its still hard to work out where the problem is.\n",
    "\n",
    "Let's explore what other features our debugger offers to dig deeper into the problem. Here is a list of basic commands that will come in handy. \n",
    "\n",
    "* **l(ist)**:  Displays 11 lines around the current line or continue the previous listing.\n",
    "* **s(tep)**:  Execute the current line, stop at the first possible occasion (you would normally step through individual lines of code).\n",
    "* **b(reak)**: Set a breakpoint (depending on the argument provided).\n",
    "\n",
    "\n",
    "* **w(here)**:  Display the file and line number of the current line\n",
    "* **n(ext)**: execute the current line\n",
    "c(ontinue) execute until a breakpoint is encountered\n",
    "r(eturn) execute until the current function’s return is\n",
    "encountered\n",
    "\n",
    "Let's run the program again and try above commands as follows: \n",
    "\n",
    "* Move `set_trace()` to an earlier location to step into debugger earlier.\n",
    "* Use `b <line_number>` to create breakpoints where price and tax is calculated. \n",
    "* Use `c` to continue to next break point. \n",
    "* use `p <variable_name>` to check values of variables.\n",
    "* Repeat above two steps till the end of execution. \n"
   ]
  },
  {
   "cell_type": "code",
   "execution_count": 4,
   "metadata": {},
   "outputs": [
    {
     "name": "stdout",
     "output_type": "stream",
     "text": [
      "--Return--\n",
      "None\n",
      "> \u001b[0;32m<ipython-input-4-19a874eb943b>\u001b[0m(4)\u001b[0;36m<module>\u001b[0;34m()\u001b[0m\n",
      "\u001b[0;32m      2 \u001b[0;31m\u001b[0;34m\u001b[0m\u001b[0m\n",
      "\u001b[0m\u001b[0;32m      3 \u001b[0;31m\u001b[0;31m# Create a break point\u001b[0m\u001b[0;34m\u001b[0m\u001b[0;34m\u001b[0m\u001b[0m\n",
      "\u001b[0m\u001b[0;32m----> 4 \u001b[0;31m\u001b[0mdebug\u001b[0m\u001b[0;34m.\u001b[0m\u001b[0mset_trace\u001b[0m\u001b[0;34m(\u001b[0m\u001b[0;34m)\u001b[0m\u001b[0;34m\u001b[0m\u001b[0m\n",
      "\u001b[0m\u001b[0;32m      5 \u001b[0;31m\u001b[0;34m\u001b[0m\u001b[0m\n",
      "\u001b[0m\u001b[0;32m      6 \u001b[0;31m\u001b[0mmeat\u001b[0m \u001b[0;34m=\u001b[0m \u001b[0mfloat\u001b[0m\u001b[0;34m(\u001b[0m\u001b[0minput\u001b[0m\u001b[0;34m(\u001b[0m\u001b[0;34m'Enter weight in kg:'\u001b[0m\u001b[0;34m)\u001b[0m\u001b[0;34m)\u001b[0m\u001b[0;34m\u001b[0m\u001b[0m\n",
      "\u001b[0m\n",
      "ipdb> b 18\n",
      "Breakpoint 4 at <ipython-input-4-19a874eb943b>:18\n",
      "ipdb> b 19\n",
      "Breakpoint 5 at <ipython-input-4-19a874eb943b>:19\n",
      "ipdb> c\n",
      "Enter weight in kg:2\n",
      "Enter in pints:3\n",
      "Enter number of bread units4\n",
      "None\n",
      "> \u001b[0;32m<ipython-input-4-19a874eb943b>\u001b[0m(18)\u001b[0;36m<module>\u001b[0;34m()\u001b[0m\n",
      "\u001b[0;32m     16 \u001b[0;31m\u001b[0mbreadTax\u001b[0m \u001b[0;34m=\u001b[0m \u001b[0;36m0.02\u001b[0m \u001b[0;34m*\u001b[0m \u001b[0mbreadPrice\u001b[0m\u001b[0;34m\u001b[0m\u001b[0m\n",
      "\u001b[0m\u001b[0;32m     17 \u001b[0;31m\u001b[0;34m\u001b[0m\u001b[0m\n",
      "\u001b[0m\u001b[1;31m4\u001b[0;32m--> 18 \u001b[0;31m\u001b[0mtotal\u001b[0m \u001b[0;34m=\u001b[0m \u001b[0mmeatPrice\u001b[0m\u001b[0;34m+\u001b[0m\u001b[0mmilkPrice\u001b[0m\u001b[0;34m+\u001b[0m\u001b[0mmeatPrice\u001b[0m\u001b[0;34m\u001b[0m\u001b[0m\n",
      "\u001b[0m\u001b[1;31m5\u001b[0;32m    19 \u001b[0;31m\u001b[0mtax\u001b[0m \u001b[0;34m=\u001b[0m \u001b[0mmeatTax\u001b[0m\u001b[0;34m+\u001b[0m\u001b[0mmilkTax\u001b[0m\u001b[0;34m+\u001b[0m\u001b[0mbreadTax\u001b[0m\u001b[0;34m\u001b[0m\u001b[0m\n",
      "\u001b[0m\u001b[0;32m     20 \u001b[0;31m\u001b[0;34m\u001b[0m\u001b[0m\n",
      "\u001b[0m\n",
      "ipdb> p meatPrice\n",
      "2.0\n",
      "ipdb> p milkPrice\n",
      "1.5\n",
      "ipdb> p breadPrice\n",
      "0.31640625\n",
      "ipdb> c\n",
      "None\n",
      "> \u001b[0;32m<ipython-input-4-19a874eb943b>\u001b[0m(19)\u001b[0;36m<module>\u001b[0;34m()\u001b[0m\n",
      "\u001b[0;32m     17 \u001b[0;31m\u001b[0;34m\u001b[0m\u001b[0m\n",
      "\u001b[0m\u001b[1;31m4\u001b[0;32m    18 \u001b[0;31m\u001b[0mtotal\u001b[0m \u001b[0;34m=\u001b[0m \u001b[0mmeatPrice\u001b[0m\u001b[0;34m+\u001b[0m\u001b[0mmilkPrice\u001b[0m\u001b[0;34m+\u001b[0m\u001b[0mmeatPrice\u001b[0m\u001b[0;34m\u001b[0m\u001b[0m\n",
      "\u001b[0m\u001b[1;31m5\u001b[0;32m--> 19 \u001b[0;31m\u001b[0mtax\u001b[0m \u001b[0;34m=\u001b[0m \u001b[0mmeatTax\u001b[0m\u001b[0;34m+\u001b[0m\u001b[0mmilkTax\u001b[0m\u001b[0;34m+\u001b[0m\u001b[0mbreadTax\u001b[0m\u001b[0;34m\u001b[0m\u001b[0m\n",
      "\u001b[0m\u001b[0;32m     20 \u001b[0;31m\u001b[0;34m\u001b[0m\u001b[0m\n",
      "\u001b[0m\u001b[0;32m     21 \u001b[0;31m\u001b[0mprint\u001b[0m \u001b[0;34m(\u001b[0m\u001b[0;34m\"Sub-Total:\"\u001b[0m\u001b[0;34m,\u001b[0m \u001b[0mtotal\u001b[0m\u001b[0;34m)\u001b[0m\u001b[0;34m\u001b[0m\u001b[0m\n",
      "\u001b[0m\n",
      "ipdb> p tax\n",
      "0.18156854249492382\n",
      "ipdb> p total\n",
      "5.5\n",
      "ipdb> c\n",
      "Sub-Total: 5.5\n",
      "Taxes: 0.131328125\n",
      "Total bill: 5.58\n"
     ]
    }
   ],
   "source": [
    "import IPython.core.debugger as debug\n",
    "\n",
    "# Create a break point\n",
    "debug.set_trace()\n",
    "\n",
    "meat = float(input('Enter weight in kg:'))\n",
    "meatPrice = 1 * meat\n",
    "meatTax = 0.04 * meatPrice\n",
    "\n",
    "milk = float(input('Enter in pints:'))\n",
    "milkPrice = 0.5 * milk \n",
    "milkTax = 0.03 * milkPrice\n",
    "\n",
    "bread = float(input('Enter number of bread units'))\n",
    "breadPrice = 0.75 ** bread\n",
    "breadTax = 0.02 * breadPrice\n",
    "\n",
    "total = meatPrice+milkPrice+meatPrice\n",
    "tax = meatTax+milkTax+breadTax\n",
    "\n",
    "print (\"Sub-Total:\", total)\n",
    "print (\"Taxes:\", tax)\n",
    "print (\"Total bill:\", total+meatTax)\n"
   ]
  },
  {
   "cell_type": "markdown",
   "metadata": {},
   "source": [
    "Okay so looking at above, we can see that bread price looks wrong at first break point. Also, the total does not reflect total prices as seen at first break point. \n",
    "\n",
    "Lets see how bread price is being calculated\n",
    "\n",
    "```python \n",
    "breadPrice = 0.75 ** bread\n",
    "\n",
    "```\n",
    "And there is our first error. a double `**` is used in python for taking power. \n",
    "\n",
    "Also, let's see where total is being calculated\n",
    "```python\n",
    "total = meatPrice+milkPrice+meatPrice\n",
    "```\n",
    "\n",
    "Here we can see another error as `meatPrice` is being added twice and there is no `breadPrice`. \n",
    "\n",
    "Let's fix these two errors and run the code again. Now we shall set one breakpoint where all the calculations have been made."
   ]
  },
  {
   "cell_type": "code",
   "execution_count": 1,
   "metadata": {},
   "outputs": [
    {
     "name": "stdout",
     "output_type": "stream",
     "text": [
      "--Return--\n",
      "None\n",
      "> \u001b[0;32m<ipython-input-1-b5346ce2703b>\u001b[0m(4)\u001b[0;36m<module>\u001b[0;34m()\u001b[0m\n",
      "\u001b[0;32m      2 \u001b[0;31m\u001b[0;34m\u001b[0m\u001b[0m\n",
      "\u001b[0m\u001b[0;32m      3 \u001b[0;31m\u001b[0;31m# Create a break point\u001b[0m\u001b[0;34m\u001b[0m\u001b[0;34m\u001b[0m\u001b[0m\n",
      "\u001b[0m\u001b[0;32m----> 4 \u001b[0;31m\u001b[0mdebug\u001b[0m\u001b[0;34m.\u001b[0m\u001b[0mset_trace\u001b[0m\u001b[0;34m(\u001b[0m\u001b[0;34m)\u001b[0m\u001b[0;34m\u001b[0m\u001b[0m\n",
      "\u001b[0m\u001b[0;32m      5 \u001b[0;31m\u001b[0;34m\u001b[0m\u001b[0m\n",
      "\u001b[0m\u001b[0;32m      6 \u001b[0;31m\u001b[0mmeat\u001b[0m \u001b[0;34m=\u001b[0m \u001b[0mfloat\u001b[0m\u001b[0;34m(\u001b[0m\u001b[0minput\u001b[0m\u001b[0;34m(\u001b[0m\u001b[0;34m'Enter weight in kg:'\u001b[0m\u001b[0;34m)\u001b[0m\u001b[0;34m)\u001b[0m\u001b[0;34m\u001b[0m\u001b[0m\n",
      "\u001b[0m\n",
      "ipdb> b 19\n",
      "Breakpoint 1 at <ipython-input-1-b5346ce2703b>:19\n",
      "ipdb> c\n",
      "Enter weight in kg:2\n",
      "Enter in pints:3\n",
      "Enter number of bread units4\n",
      "None\n",
      "> \u001b[0;32m<ipython-input-1-b5346ce2703b>\u001b[0m(19)\u001b[0;36m<module>\u001b[0;34m()\u001b[0m\n",
      "\u001b[0;32m     17 \u001b[0;31m\u001b[0;34m\u001b[0m\u001b[0m\n",
      "\u001b[0m\u001b[0;32m     18 \u001b[0;31m\u001b[0mtotal\u001b[0m \u001b[0;34m=\u001b[0m \u001b[0mmeatPrice\u001b[0m\u001b[0;34m+\u001b[0m\u001b[0mmilkPrice\u001b[0m\u001b[0;34m+\u001b[0m\u001b[0mbreadPrice\u001b[0m\u001b[0;34m\u001b[0m\u001b[0m\n",
      "\u001b[0m\u001b[1;31m1\u001b[0;32m--> 19 \u001b[0;31m\u001b[0mtax\u001b[0m \u001b[0;34m=\u001b[0m \u001b[0mmeatTax\u001b[0m\u001b[0;34m+\u001b[0m\u001b[0mmilkTax\u001b[0m\u001b[0;34m+\u001b[0m\u001b[0mbreadTax\u001b[0m\u001b[0;34m\u001b[0m\u001b[0m\n",
      "\u001b[0m\u001b[0;32m     20 \u001b[0;31m\u001b[0;34m\u001b[0m\u001b[0m\n",
      "\u001b[0m\u001b[0;32m     21 \u001b[0;31m\u001b[0mprint\u001b[0m \u001b[0;34m(\u001b[0m\u001b[0;34m\"Sub-Total:\"\u001b[0m\u001b[0;34m,\u001b[0m \u001b[0mtotal\u001b[0m\u001b[0;34m)\u001b[0m\u001b[0;34m\u001b[0m\u001b[0m\n",
      "\u001b[0m\n",
      "ipdb> p meatPrice\n",
      "2.0\n",
      "ipdb> p milkPrice\n",
      "1.5\n",
      "ipdb> p breadPrice\n",
      "3.0\n",
      "ipdb> p total\n",
      "6.5\n",
      "ipdb> p meatTax\n",
      "0.08\n",
      "ipdb> p milkTax\n",
      "0.045\n",
      "ipdb> p breadTax\n",
      "0.06\n",
      "ipdb> p tax\n",
      "*** NameError: name 'tax' is not defined\n",
      "ipdb> p milkTax+meatTax+breadTax\n",
      "0.185\n",
      "ipdb> c\n",
      "Sub-Total: 6.5\n",
      "Taxes: 0.185\n",
      "Total bill: 6.58\n"
     ]
    }
   ],
   "source": [
    "import IPython.core.debugger as debug\n",
    "\n",
    "# Create a break point\n",
    "debug.set_trace()\n",
    "\n",
    "meat = float(input('Enter weight in kg:'))\n",
    "meatPrice = 1 * meat\n",
    "meatTax = 0.04 * meatPrice\n",
    "\n",
    "milk = float(input('Enter in pints:'))\n",
    "milkPrice = 0.5 * milk \n",
    "milkTax = 0.03 * milkPrice\n",
    "\n",
    "bread = float(input('Enter number of bread units'))\n",
    "breadPrice = 0.75 * bread\n",
    "breadTax = 0.02 * breadPrice\n",
    "\n",
    "total = meatPrice+milkPrice+breadPrice\n",
    "tax = meatTax+milkTax+breadTax\n",
    "\n",
    "print (\"Sub-Total:\", total)\n",
    "print (\"Taxes:\", tax)\n",
    "print (\"Total bill:\", total+meatTax)\n"
   ]
  },
  {
   "cell_type": "markdown",
   "metadata": {},
   "source": [
    "Okie now, everything is fine till the grand total as it does not reflect total+tax amount. \n",
    "\n",
    "Let's check the point where grand total is being calculated. Here is the line:\n",
    "\n",
    "```python\n",
    "print (\"Total bill:\", total+meatTax)\n",
    "\n",
    "```"
   ]
  },
  {
   "cell_type": "markdown",
   "metadata": {},
   "source": [
    "So we can see that we are adding `meatTax` to the total and instead of `tax`. Let's fix and run again."
   ]
  },
  {
   "cell_type": "code",
   "execution_count": 2,
   "metadata": {},
   "outputs": [
    {
     "name": "stdout",
     "output_type": "stream",
     "text": [
      "--Return--\n",
      "None\n",
      "> \u001b[0;32m<ipython-input-2-c57e97346986>\u001b[0m(4)\u001b[0;36m<module>\u001b[0;34m()\u001b[0m\n",
      "\u001b[0;32m      2 \u001b[0;31m\u001b[0;34m\u001b[0m\u001b[0m\n",
      "\u001b[0m\u001b[0;32m      3 \u001b[0;31m\u001b[0;31m# Create a break point\u001b[0m\u001b[0;34m\u001b[0m\u001b[0;34m\u001b[0m\u001b[0m\n",
      "\u001b[0m\u001b[0;32m----> 4 \u001b[0;31m\u001b[0mdebug\u001b[0m\u001b[0;34m.\u001b[0m\u001b[0mset_trace\u001b[0m\u001b[0;34m(\u001b[0m\u001b[0;34m)\u001b[0m\u001b[0;34m\u001b[0m\u001b[0m\n",
      "\u001b[0m\u001b[0;32m      5 \u001b[0;31m\u001b[0;34m\u001b[0m\u001b[0m\n",
      "\u001b[0m\u001b[0;32m      6 \u001b[0;31m\u001b[0mmeat\u001b[0m \u001b[0;34m=\u001b[0m \u001b[0mfloat\u001b[0m\u001b[0;34m(\u001b[0m\u001b[0minput\u001b[0m\u001b[0;34m(\u001b[0m\u001b[0;34m'Enter weight in kg:'\u001b[0m\u001b[0;34m)\u001b[0m\u001b[0;34m)\u001b[0m\u001b[0;34m\u001b[0m\u001b[0m\n",
      "\u001b[0m\n",
      "ipdb> c\n",
      "Enter weight in kg:2\n",
      "Enter in pints:3\n",
      "Enter number of bread units4\n",
      "Sub-Total: 6.5\n",
      "Taxes: 0.185\n",
      "Total bill: 6.685\n"
     ]
    }
   ],
   "source": [
    "import IPython.core.debugger as debug\n",
    "\n",
    "# Create a break point\n",
    "debug.set_trace()\n",
    "\n",
    "meat = float(input('Enter weight in kg:'))\n",
    "meatPrice = 1 * meat\n",
    "meatTax = 0.04 * meatPrice\n",
    "\n",
    "milk = float(input('Enter in pints:'))\n",
    "milkPrice = 0.5 * milk \n",
    "milkTax = 0.03 * milkPrice\n",
    "\n",
    "bread = float(input('Enter number of bread units'))\n",
    "breadPrice = 0.75 * bread\n",
    "breadTax = 0.02 * breadPrice\n",
    "\n",
    "total = meatPrice+milkPrice+breadPrice\n",
    "tax = meatTax+milkTax+breadTax\n",
    "\n",
    "print (\"Sub-Total:\", total)\n",
    "print (\"Taxes:\", tax)\n",
    "print (\"Total bill:\", total+tax)\n"
   ]
  },
  {
   "cell_type": "markdown",
   "metadata": {},
   "source": [
    "Perfect. Everything makes sense now. \n",
    "\n",
    "Now you might be thinking why do we need to go through all this trouble to identify errors which could have been spotted easily otherwise ! \n",
    "\n",
    "In the real world situations, you might be incolved in projects where a software may contain upto millions of lines of code and following a really complicated program logic. Finding errors manually in such situations could be time-consuming and inefficient activity. Being able to step into the debugging mode, create break points, checking variable state at checkpoints - as we saw in this lesson, could be useful towards debugging a large software with much ease. "
   ]
  },
  {
   "cell_type": "markdown",
   "metadata": {},
   "source": [
    "Here is a quick infographic that you can use along side debugging techniques to identify possible places for errors in your code. `pdb` in python is a detailed debugger and offers lots of other commands not mentioned in this lesson. You are strong advised to visit the [official `pdb` documentation at this location](https://docs.python.org/2/library/pdb.html) to learn more about pdb."
   ]
  },
  {
   "cell_type": "markdown",
   "metadata": {},
   "source": [
    "![](https://mdalums95.files.wordpress.com/2013/12/wrujv6r.png)"
   ]
  },
  {
   "cell_type": "markdown",
   "metadata": {},
   "source": [
    "### Summary\n",
    "\n",
    "In this lesson we learned to debug python code using `ipdb`. We saw why debugging is considered an important skill for coders and how manually identifying errors for large softwares is not a practical solution. We learnt basic commands in python debugger to identify and eliminate errors in a a simple code. You are advised to use these skills in your projects."
   ]
  }
 ],
 "metadata": {
  "kernelspec": {
   "display_name": "Python 3",
   "language": "python",
   "name": "python3"
  },
  "language_info": {
   "codemirror_mode": {
    "name": "ipython",
    "version": 3
   },
   "file_extension": ".py",
   "mimetype": "text/x-python",
   "name": "python",
   "nbconvert_exporter": "python",
   "pygments_lexer": "ipython3",
   "version": "3.6.4"
  }
 },
 "nbformat": 4,
 "nbformat_minor": 2
}
